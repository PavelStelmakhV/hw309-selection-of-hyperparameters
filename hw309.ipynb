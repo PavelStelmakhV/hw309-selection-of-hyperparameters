{
  "nbformat": 4,
  "nbformat_minor": 0,
  "metadata": {
    "colab": {
      "provenance": [],
      "authorship_tag": "ABX9TyMXfh4vq2LsAmnm7PKg0Fxx",
      "include_colab_link": true
    },
    "kernelspec": {
      "name": "python3",
      "display_name": "Python 3"
    },
    "language_info": {
      "name": "python"
    }
  },
  "cells": [
    {
      "cell_type": "markdown",
      "metadata": {
        "id": "view-in-github",
        "colab_type": "text"
      },
      "source": [
        "<a href=\"https://colab.research.google.com/github/PavelStelmakhV/hw309-selection-of-hyperparameters/blob/main/hw309.ipynb\" target=\"_parent\"><img src=\"https://colab.research.google.com/assets/colab-badge.svg\" alt=\"Open In Colab\"/></a>"
      ]
    },
    {
      "cell_type": "code",
      "source": [
        "import matplotlib.pyplot as plt\n",
        "import numpy as np\n",
        "import tensorflow as tf\n",
        "\n",
        "from keras import layers\n",
        "from keras import callbacks\n",
        "\n",
        "from keras.models import Sequential\n",
        "from keras.layers import Dense\n",
        "from keras.layers import Flatten\n",
        "from keras.callbacks import EarlyStopping\n",
        "from keras.callbacks import ModelCheckpoint\n",
        "\n",
        "from sklearn.preprocessing import StandardScaler\n",
        "from sklearn.metrics import accuracy_score\n",
        "from keras.utils import to_categorical\n",
        "\n",
        "\n",
        "# import numpy as np\n",
        "# import matplotlib.pyplot as plt\n",
        "# import tf_keras\n",
        "\n",
        "# from keras import layers\n",
        "# from keras import models\n",
        "# from keras import regularizers\n",
        "# from keras import callbacks\n",
        "# from keras import initializers\n",
        "\n",
        "# from keras.layers import BatchNormalization\n",
        "# from keras.models import load_model\n"
      ],
      "metadata": {
        "id": "PyW3hSZZt72U"
      },
      "execution_count": 23,
      "outputs": []
    },
    {
      "cell_type": "code",
      "source": [
        "num_classes = 10"
      ],
      "metadata": {
        "id": "r9l75p-fwODt"
      },
      "execution_count": 24,
      "outputs": []
    },
    {
      "cell_type": "code",
      "source": [
        "%%capture\n",
        "%%time\n",
        "fashion_mnist = tf.keras.datasets.fashion_mnist\n",
        "(x_train, y_train), (x_test, y_test) = fashion_mnist.load_data()"
      ],
      "metadata": {
        "id": "vVHtrihNt0DT"
      },
      "execution_count": 25,
      "outputs": []
    },
    {
      "cell_type": "code",
      "source": [
        "y_train[0]"
      ],
      "metadata": {
        "id": "f60E-7yhvt4j",
        "outputId": "0754cb23-a218-43ca-ae2d-ca1d68d6f7fb",
        "colab": {
          "base_uri": "https://localhost:8080/"
        }
      },
      "execution_count": 26,
      "outputs": [
        {
          "output_type": "execute_result",
          "data": {
            "text/plain": [
              "9"
            ]
          },
          "metadata": {},
          "execution_count": 26
        }
      ]
    },
    {
      "cell_type": "code",
      "source": [
        "x_train = x_train.astype('float32') / 255\n",
        "x_test = x_test.astype('float32') / 255\n",
        "\n",
        "y_train = to_categorical(y_train, num_classes=num_classes)\n",
        "y_test = to_categorical(y_test, num_classes=num_classes)"
      ],
      "metadata": {
        "id": "cxLc_T0SyWMS"
      },
      "execution_count": 27,
      "outputs": []
    },
    {
      "cell_type": "code",
      "source": [
        "y_train[0]"
      ],
      "metadata": {
        "id": "wQRw6YZGvgt6",
        "outputId": "68168a7a-05b5-437a-fdc9-8fb3396cdfc8",
        "colab": {
          "base_uri": "https://localhost:8080/"
        }
      },
      "execution_count": 28,
      "outputs": [
        {
          "output_type": "execute_result",
          "data": {
            "text/plain": [
              "array([0., 0., 0., 0., 0., 0., 0., 0., 0., 1.], dtype=float32)"
            ]
          },
          "metadata": {},
          "execution_count": 28
        }
      ]
    },
    {
      "cell_type": "code",
      "source": [
        "x_train.shape[1]"
      ],
      "metadata": {
        "id": "-7BqQvP9-_dP",
        "outputId": "0e9dcbea-3aeb-45e2-f081-20aab31a53dd",
        "colab": {
          "base_uri": "https://localhost:8080/"
        }
      },
      "execution_count": 29,
      "outputs": [
        {
          "output_type": "execute_result",
          "data": {
            "text/plain": [
              "28"
            ]
          },
          "metadata": {},
          "execution_count": 29
        }
      ]
    },
    {
      "cell_type": "code",
      "source": [
        "%%time\n",
        "# Split the data into training and testing sets\n",
        "# x_train, x_test, y_train, y_test = train_test_split(X, y_one_hot, test_size=0.2, random_state=42)\n",
        "\n",
        "# Standardize the input features\n",
        "# scaler = StandardScaler()\n",
        "# x_train = scaler.fit_transform(x_train)\n",
        "# x_test = scaler.transform(x_test)\n",
        "\n",
        "# Build a simple neural network\n",
        "model = Sequential()\n",
        "model.add(Flatten(input_shape=(28, 28)))\n",
        "model.add(Dense(units=64, activation='relu'))\n",
        "model.add(Dense(units=num_classes, activation='softmax'))\n",
        "\n",
        "# Compile the model\n",
        "model.compile(optimizer='adam', loss='categorical_crossentropy', metrics=['accuracy'])\n",
        "\n",
        "es = EarlyStopping(monitor='val_loss', mode='min', verbose=0, patience=6)\n",
        "mc = ModelCheckpoint('best_model.h5', monitor='categorical_accuracy', mode='max', verbose=0, save_best_only=True)\n",
        "\n",
        "# Train the model\n",
        "history = model.fit(x_train,\n",
        "                    y_train,\n",
        "                    epochs=50,\n",
        "                    batch_size=64,\n",
        "                    callbacks=[mc, es],\n",
        "                    validation_split=0.2,\n",
        "                    verbose=1)"
      ],
      "metadata": {
        "collapsed": true,
        "id": "qACLOZ89v_jU",
        "outputId": "7a5c8be7-54c1-4ea5-94d8-f4b274b9d077",
        "colab": {
          "base_uri": "https://localhost:8080/"
        }
      },
      "execution_count": 32,
      "outputs": [
        {
          "output_type": "stream",
          "name": "stdout",
          "text": [
            "Epoch 1/50\n",
            "750/750 [==============================] - 5s 6ms/step - loss: 0.5747 - accuracy: 0.8036 - val_loss: 0.4653 - val_accuracy: 0.8418\n",
            "Epoch 2/50\n",
            "750/750 [==============================] - 3s 4ms/step - loss: 0.4245 - accuracy: 0.8503 - val_loss: 0.4229 - val_accuracy: 0.8545\n",
            "Epoch 3/50\n",
            "750/750 [==============================] - 3s 4ms/step - loss: 0.3828 - accuracy: 0.8634 - val_loss: 0.3875 - val_accuracy: 0.8618\n",
            "Epoch 4/50\n",
            "750/750 [==============================] - 3s 3ms/step - loss: 0.3570 - accuracy: 0.8722 - val_loss: 0.3617 - val_accuracy: 0.8691\n",
            "Epoch 5/50\n",
            "750/750 [==============================] - 4s 5ms/step - loss: 0.3372 - accuracy: 0.8778 - val_loss: 0.3598 - val_accuracy: 0.8751\n",
            "Epoch 6/50\n",
            "750/750 [==============================] - 3s 4ms/step - loss: 0.3239 - accuracy: 0.8832 - val_loss: 0.3479 - val_accuracy: 0.8788\n",
            "Epoch 7/50\n",
            "750/750 [==============================] - 3s 4ms/step - loss: 0.3107 - accuracy: 0.8868 - val_loss: 0.3431 - val_accuracy: 0.8758\n",
            "Epoch 8/50\n",
            "750/750 [==============================] - 3s 4ms/step - loss: 0.2990 - accuracy: 0.8917 - val_loss: 0.3426 - val_accuracy: 0.8767\n",
            "Epoch 9/50\n",
            "750/750 [==============================] - 4s 6ms/step - loss: 0.2867 - accuracy: 0.8953 - val_loss: 0.3279 - val_accuracy: 0.8839\n",
            "Epoch 10/50\n",
            "750/750 [==============================] - 4s 5ms/step - loss: 0.2787 - accuracy: 0.8987 - val_loss: 0.3281 - val_accuracy: 0.8817\n",
            "Epoch 11/50\n",
            "750/750 [==============================] - 3s 4ms/step - loss: 0.2706 - accuracy: 0.8995 - val_loss: 0.3255 - val_accuracy: 0.8862\n",
            "Epoch 12/50\n",
            "750/750 [==============================] - 3s 4ms/step - loss: 0.2644 - accuracy: 0.9026 - val_loss: 0.3241 - val_accuracy: 0.8848\n",
            "Epoch 13/50\n",
            "750/750 [==============================] - 4s 5ms/step - loss: 0.2560 - accuracy: 0.9053 - val_loss: 0.3347 - val_accuracy: 0.8833\n",
            "Epoch 14/50\n",
            "750/750 [==============================] - 4s 5ms/step - loss: 0.2514 - accuracy: 0.9067 - val_loss: 0.3261 - val_accuracy: 0.8874\n",
            "Epoch 15/50\n",
            "750/750 [==============================] - 3s 4ms/step - loss: 0.2463 - accuracy: 0.9097 - val_loss: 0.3293 - val_accuracy: 0.8852\n",
            "Epoch 16/50\n",
            "750/750 [==============================] - 3s 4ms/step - loss: 0.2402 - accuracy: 0.9118 - val_loss: 0.3243 - val_accuracy: 0.8857\n",
            "Epoch 17/50\n",
            "750/750 [==============================] - 3s 4ms/step - loss: 0.2321 - accuracy: 0.9143 - val_loss: 0.3196 - val_accuracy: 0.8880\n",
            "Epoch 18/50\n",
            "750/750 [==============================] - 4s 6ms/step - loss: 0.2286 - accuracy: 0.9151 - val_loss: 0.3345 - val_accuracy: 0.8821\n",
            "Epoch 19/50\n",
            "750/750 [==============================] - 4s 6ms/step - loss: 0.2235 - accuracy: 0.9179 - val_loss: 0.3379 - val_accuracy: 0.8835\n",
            "Epoch 20/50\n",
            "750/750 [==============================] - 3s 4ms/step - loss: 0.2202 - accuracy: 0.9183 - val_loss: 0.3283 - val_accuracy: 0.8867\n",
            "Epoch 21/50\n",
            "750/750 [==============================] - 3s 4ms/step - loss: 0.2151 - accuracy: 0.9205 - val_loss: 0.3344 - val_accuracy: 0.8835\n",
            "Epoch 22/50\n",
            "750/750 [==============================] - 4s 6ms/step - loss: 0.2101 - accuracy: 0.9225 - val_loss: 0.3324 - val_accuracy: 0.8871\n",
            "Epoch 23/50\n",
            "750/750 [==============================] - 3s 4ms/step - loss: 0.2064 - accuracy: 0.9239 - val_loss: 0.3328 - val_accuracy: 0.8856\n",
            "Epoch 24/50\n",
            "750/750 [==============================] - 3s 4ms/step - loss: 0.2018 - accuracy: 0.9262 - val_loss: 0.3431 - val_accuracy: 0.8865\n",
            "Epoch 25/50\n",
            "750/750 [==============================] - 3s 4ms/step - loss: 0.2016 - accuracy: 0.9264 - val_loss: 0.3670 - val_accuracy: 0.8806\n",
            "Epoch 26/50\n",
            "750/750 [==============================] - 5s 6ms/step - loss: 0.1962 - accuracy: 0.9280 - val_loss: 0.3421 - val_accuracy: 0.8895\n",
            "Epoch 27/50\n",
            "750/750 [==============================] - 3s 4ms/step - loss: 0.1929 - accuracy: 0.9295 - val_loss: 0.3438 - val_accuracy: 0.8854\n",
            "Epoch 28/50\n",
            "750/750 [==============================] - 3s 4ms/step - loss: 0.1905 - accuracy: 0.9297 - val_loss: 0.3499 - val_accuracy: 0.8857\n",
            "Epoch 29/50\n",
            "750/750 [==============================] - 3s 4ms/step - loss: 0.1864 - accuracy: 0.9316 - val_loss: 0.3429 - val_accuracy: 0.8886\n",
            "Epoch 30/50\n",
            "750/750 [==============================] - 4s 5ms/step - loss: 0.1823 - accuracy: 0.9333 - val_loss: 0.3432 - val_accuracy: 0.8892\n",
            "Epoch 31/50\n",
            "750/750 [==============================] - 3s 5ms/step - loss: 0.1817 - accuracy: 0.9339 - val_loss: 0.3575 - val_accuracy: 0.8864\n",
            "Epoch 32/50\n",
            "750/750 [==============================] - 3s 4ms/step - loss: 0.1766 - accuracy: 0.9343 - val_loss: 0.3528 - val_accuracy: 0.8864\n",
            "Epoch 33/50\n",
            "750/750 [==============================] - 3s 4ms/step - loss: 0.1729 - accuracy: 0.9365 - val_loss: 0.3486 - val_accuracy: 0.8890\n",
            "Epoch 34/50\n",
            "750/750 [==============================] - 4s 5ms/step - loss: 0.1712 - accuracy: 0.9367 - val_loss: 0.3412 - val_accuracy: 0.8882\n",
            "Epoch 35/50\n",
            "750/750 [==============================] - 3s 4ms/step - loss: 0.1697 - accuracy: 0.9383 - val_loss: 0.3605 - val_accuracy: 0.8888\n",
            "Epoch 36/50\n",
            "750/750 [==============================] - 3s 4ms/step - loss: 0.1689 - accuracy: 0.9384 - val_loss: 0.3655 - val_accuracy: 0.8870\n",
            "Epoch 37/50\n",
            "750/750 [==============================] - 3s 4ms/step - loss: 0.1654 - accuracy: 0.9386 - val_loss: 0.3740 - val_accuracy: 0.8822\n",
            "Epoch 38/50\n",
            "750/750 [==============================] - 3s 4ms/step - loss: 0.1603 - accuracy: 0.9416 - val_loss: 0.3722 - val_accuracy: 0.8848\n",
            "Epoch 39/50\n",
            "750/750 [==============================] - 4s 5ms/step - loss: 0.1581 - accuracy: 0.9428 - val_loss: 0.3543 - val_accuracy: 0.8912\n",
            "Epoch 40/50\n",
            "750/750 [==============================] - 3s 4ms/step - loss: 0.1584 - accuracy: 0.9415 - val_loss: 0.3781 - val_accuracy: 0.8858\n",
            "Epoch 41/50\n",
            "750/750 [==============================] - 3s 4ms/step - loss: 0.1536 - accuracy: 0.9443 - val_loss: 0.3668 - val_accuracy: 0.8895\n",
            "Epoch 42/50\n",
            "750/750 [==============================] - 3s 4ms/step - loss: 0.1508 - accuracy: 0.9450 - val_loss: 0.3891 - val_accuracy: 0.8848\n",
            "Epoch 43/50\n",
            "750/750 [==============================] - 4s 5ms/step - loss: 0.1516 - accuracy: 0.9448 - val_loss: 0.3856 - val_accuracy: 0.8866\n",
            "Epoch 44/50\n",
            "750/750 [==============================] - 3s 4ms/step - loss: 0.1478 - accuracy: 0.9469 - val_loss: 0.3798 - val_accuracy: 0.8872\n",
            "Epoch 45/50\n",
            "750/750 [==============================] - 3s 4ms/step - loss: 0.1440 - accuracy: 0.9486 - val_loss: 0.3898 - val_accuracy: 0.8832\n",
            "Epoch 46/50\n",
            "750/750 [==============================] - 3s 3ms/step - loss: 0.1444 - accuracy: 0.9479 - val_loss: 0.3913 - val_accuracy: 0.8871\n",
            "Epoch 47/50\n",
            "750/750 [==============================] - 4s 5ms/step - loss: 0.1441 - accuracy: 0.9474 - val_loss: 0.4074 - val_accuracy: 0.8819\n",
            "Epoch 48/50\n",
            "750/750 [==============================] - 4s 5ms/step - loss: 0.1409 - accuracy: 0.9489 - val_loss: 0.4135 - val_accuracy: 0.8849\n",
            "Epoch 49/50\n",
            "750/750 [==============================] - 3s 3ms/step - loss: 0.1377 - accuracy: 0.9501 - val_loss: 0.4176 - val_accuracy: 0.8834\n",
            "Epoch 50/50\n",
            "750/750 [==============================] - 3s 4ms/step - loss: 0.1372 - accuracy: 0.9500 - val_loss: 0.4048 - val_accuracy: 0.8850\n",
            "CPU times: user 2min 56s, sys: 9.59 s, total: 3min 5s\n",
            "Wall time: 2min 47s\n"
          ]
        }
      ]
    },
    {
      "cell_type": "code",
      "source": [
        "# w_init_tanh = initializers.glorot_normal(seed=42)\n",
        "# w_init_relu = initializers.HeNormal(seed=42)\n",
        "# # w_init_relu = initializers.HeUniform(seed=24)\n",
        "# b_init = initializers.Zeros()"
      ],
      "metadata": {
        "id": "jled6KGdUzai"
      },
      "execution_count": 31,
      "outputs": []
    }
  ]
}